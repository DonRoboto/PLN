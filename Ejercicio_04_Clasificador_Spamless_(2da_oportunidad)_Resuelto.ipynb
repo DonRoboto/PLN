{
 "cells": [
  {
   "cell_type": "markdown",
   "metadata": {
    "colab_type": "text",
    "id": "DNneyDYf667l"
   },
   "source": [
    "## Ejercicio 04.- Clasificador Spamless (2da oportunidad)"
   ]
  },
  {
   "cell_type": "markdown",
   "metadata": {
    "colab_type": "text",
    "id": "1gqYMHqpC5FU"
   },
   "source": [
    "Instrucciones, reutilizar el caso de estudio de la semana 2 (Clasificador Spamless) que se desarrolló en clase y mejorar el Score de clasificación de manera libre:\n",
    "\n",
    "Opciones:\n",
    "- Puedes filtrar StopWords (No se filtraron en el código original del clasificador)\n",
    "- Puedes crear N-Gramas artificiales (Reemplazando en el texto original por ejemplo las palabras \"último día\" por \"ultimo-dia\", para que cuando éstas sean analizadas cuenten como un solo bigrama en las características extraidas (Asegurate que el proceso de tokenización no vuelva a deshacer los bigramas o trigramas, etc...).\n",
    "PD: Si generas bigramas específicos, también deberás de hacer la conversión cuando se ingrese un nuevo texto a evaluar (Entradas para pruebas)\n",
    "- Puedes implementar lematización (Ésto también se tendría que hacer en las entradas de las pruebas, o en la información que se utilice para validar el modelo)\n",
    "- Puedes utilizar nuevas características como entrada a tu modelo, por ejemplo, agregar en a matriz de Bag of Words valores como la cantidad de caracteres, la cantidad de veces que aparece cierta PoS (Elemento del discurso), la cantidad de signos de puntuación, o lo que creas conveniente.\n",
    "\n",
    "Enviar en la primera celda de tu código, los elementos que decidiste agregar para mejorar el análisis del clasificador\n",
    "\n",
    "Presentar al final la matriz de confusión y métricas que se vieron en clase (Precisión, Sensibilidad y F1)\n",
    "\n",
    "Suerte con el desarrollo, con este ejercicio ya eres todo un diseñador de PLN."
   ]
  },
  {
   "cell_type": "code",
   "execution_count": 39,
   "metadata": {},
   "outputs": [],
   "source": [
    "# Importar las librerías de que nos ayudarán a obtener la información, organizarla y procesarla\n",
    "import pandas as pd"
   ]
  },
  {
   "cell_type": "code",
   "execution_count": 40,
   "metadata": {},
   "outputs": [
    {
     "data": {
      "text/html": [
       "<div>\n",
       "<style scoped>\n",
       "    .dataframe tbody tr th:only-of-type {\n",
       "        vertical-align: middle;\n",
       "    }\n",
       "\n",
       "    .dataframe tbody tr th {\n",
       "        vertical-align: top;\n",
       "    }\n",
       "\n",
       "    .dataframe thead th {\n",
       "        text-align: right;\n",
       "    }\n",
       "</style>\n",
       "<table border=\"1\" class=\"dataframe\">\n",
       "  <thead>\n",
       "    <tr style=\"text-align: right;\">\n",
       "      <th></th>\n",
       "      <th>clase</th>\n",
       "      <th>mensaje</th>\n",
       "    </tr>\n",
       "  </thead>\n",
       "  <tbody>\n",
       "    <tr>\n",
       "      <th>0</th>\n",
       "      <td>NoSpam</td>\n",
       "      <td>Acuerdo para la reunión de planeación</td>\n",
       "    </tr>\n",
       "    <tr>\n",
       "      <th>1</th>\n",
       "      <td>NoSpam</td>\n",
       "      <td>[IMPORTANTE] Cambio de hora en la cita de mañana</td>\n",
       "    </tr>\n",
       "    <tr>\n",
       "      <th>2</th>\n",
       "      <td>NoSpam</td>\n",
       "      <td>Envio de información solicitada</td>\n",
       "    </tr>\n",
       "    <tr>\n",
       "      <th>3</th>\n",
       "      <td>NoSpam</td>\n",
       "      <td>Problema de autenticación resuelto</td>\n",
       "    </tr>\n",
       "    <tr>\n",
       "      <th>4</th>\n",
       "      <td>NoSpam</td>\n",
       "      <td>Activación correcta de tu cuenta</td>\n",
       "    </tr>\n",
       "    <tr>\n",
       "      <th>5</th>\n",
       "      <td>NoSpam</td>\n",
       "      <td>Fotos para enviar</td>\n",
       "    </tr>\n",
       "    <tr>\n",
       "      <th>6</th>\n",
       "      <td>NoSpam</td>\n",
       "      <td>Recibo del curso para escanear</td>\n",
       "    </tr>\n",
       "    <tr>\n",
       "      <th>7</th>\n",
       "      <td>NoSpam</td>\n",
       "      <td>Datos de las cuentas de acceso</td>\n",
       "    </tr>\n",
       "    <tr>\n",
       "      <th>8</th>\n",
       "      <td>NoSpam</td>\n",
       "      <td>Confirmación de proceso de Autovinculación</td>\n",
       "    </tr>\n",
       "    <tr>\n",
       "      <th>9</th>\n",
       "      <td>NoSpam</td>\n",
       "      <td>Confirmación de Activación de Cuenta en App Móvil</td>\n",
       "    </tr>\n",
       "    <tr>\n",
       "      <th>10</th>\n",
       "      <td>NoSpam</td>\n",
       "      <td>Por si les interesa: Vacante para Becario proy...</td>\n",
       "    </tr>\n",
       "    <tr>\n",
       "      <th>11</th>\n",
       "      <td>NoSpam</td>\n",
       "      <td>Información sobre seguro de gastos médicos may...</td>\n",
       "    </tr>\n",
       "    <tr>\n",
       "      <th>12</th>\n",
       "      <td>NoSpam</td>\n",
       "      <td>Se ha modificado la información de tu cuenta</td>\n",
       "    </tr>\n",
       "    <tr>\n",
       "      <th>13</th>\n",
       "      <td>NoSpam</td>\n",
       "      <td>Solicitud para cambio de contraseña</td>\n",
       "    </tr>\n",
       "    <tr>\n",
       "      <th>14</th>\n",
       "      <td>NoSpam</td>\n",
       "      <td>Confirmación de compra digital de Nintendo</td>\n",
       "    </tr>\n",
       "    <tr>\n",
       "      <th>15</th>\n",
       "      <td>NoSpam</td>\n",
       "      <td>Confirmación de fondos añadidos a tu cuenta</td>\n",
       "    </tr>\n",
       "    <tr>\n",
       "      <th>16</th>\n",
       "      <td>NoSpam</td>\n",
       "      <td>Aportación Voluntaria Depositada con Éxito</td>\n",
       "    </tr>\n",
       "    <tr>\n",
       "      <th>17</th>\n",
       "      <td>NoSpam</td>\n",
       "      <td>Este es su link de confirmación de correo</td>\n",
       "    </tr>\n",
       "    <tr>\n",
       "      <th>18</th>\n",
       "      <td>NoSpam</td>\n",
       "      <td>Confirmación de Orden de compra</td>\n",
       "    </tr>\n",
       "    <tr>\n",
       "      <th>19</th>\n",
       "      <td>NoSpam</td>\n",
       "      <td>Gracias por confirmar tu asistencia, te espera...</td>\n",
       "    </tr>\n",
       "  </tbody>\n",
       "</table>\n",
       "</div>"
      ],
      "text/plain": [
       "     clase                                            mensaje\n",
       "0   NoSpam              Acuerdo para la reunión de planeación\n",
       "1   NoSpam   [IMPORTANTE] Cambio de hora en la cita de mañana\n",
       "2   NoSpam                    Envio de información solicitada\n",
       "3   NoSpam                 Problema de autenticación resuelto\n",
       "4   NoSpam                   Activación correcta de tu cuenta\n",
       "5   NoSpam                                  Fotos para enviar\n",
       "6   NoSpam                     Recibo del curso para escanear\n",
       "7   NoSpam                     Datos de las cuentas de acceso\n",
       "8   NoSpam         Confirmación de proceso de Autovinculación\n",
       "9   NoSpam  Confirmación de Activación de Cuenta en App Móvil\n",
       "10  NoSpam  Por si les interesa: Vacante para Becario proy...\n",
       "11  NoSpam  Información sobre seguro de gastos médicos may...\n",
       "12  NoSpam       Se ha modificado la información de tu cuenta\n",
       "13  NoSpam                Solicitud para cambio de contraseña\n",
       "14  NoSpam         Confirmación de compra digital de Nintendo\n",
       "15  NoSpam        Confirmación de fondos añadidos a tu cuenta\n",
       "16  NoSpam         Aportación Voluntaria Depositada con Éxito\n",
       "17  NoSpam          Este es su link de confirmación de correo\n",
       "18  NoSpam                    Confirmación de Orden de compra\n",
       "19  NoSpam  Gracias por confirmar tu asistencia, te espera..."
      ]
     },
     "execution_count": 40,
     "metadata": {},
     "output_type": "execute_result"
    }
   ],
   "source": [
    "# Lectura del archivo que contiene el corpus con la información clasificada\n",
    "# y preprocesada (Ham VS Spam)\n",
    "df2 = pd.read_csv('Spamless_DataSet_CSV.csv')\n",
    "df2.head(20) \n",
    "\n",
    "# Referencia para la lectura de archivos en: https://codeday.me/es/qa/20190412/477724.html"
   ]
  },
  {
   "cell_type": "code",
   "execution_count": 41,
   "metadata": {},
   "outputs": [
    {
     "name": "stdout",
     "output_type": "stream",
     "text": [
      "Tamaño del data frame: 88\n",
      "Cantidad de filas vacías:\n",
      "clase      0\n",
      "mensaje    0\n",
      "dtype: int64\n",
      "\n",
      "Tamaño del data frame sin vacíos: 88\n"
     ]
    }
   ],
   "source": [
    "# Para detectar si tenemos filas vacías\n",
    "print(\"Tamaño del data frame: \" + str(len(df2)))\n",
    "print(\"Cantidad de filas vacías:\")\n",
    "print(df2.isnull().sum())\n",
    "\n",
    "# Eliminamos las filas vacías y vemos el tamaño del nuevo df\n",
    "df2 = df2.dropna()\n",
    "df2 = df2[df2['mensaje'] != \"\"]\n",
    "print(\"\\nTamaño del data frame sin vacíos: \" + str(len(df2)))"
   ]
  },
  {
   "cell_type": "code",
   "execution_count": 42,
   "metadata": {},
   "outputs": [
    {
     "name": "stdout",
     "output_type": "stream",
     "text": [
      "Clases que tenemos en el DataSet:\n",
      "['NoSpam' 'Spam']\n",
      "\n",
      "Cantidad de ejemplos que tenemos por clase:\n",
      "Spam      60\n",
      "NoSpam    28\n",
      "Name: clase, dtype: int64\n"
     ]
    }
   ],
   "source": [
    "# Verificar cuales son las clasificaciones que tenemos en nuestro DataSet\n",
    "print(\"Clases que tenemos en el DataSet:\")\n",
    "print(df2['clase'].unique())\n",
    "\n",
    "# Revisamos la cantidad de ejemplos que tenemos por cada clase\n",
    "print(\"\\nCantidad de ejemplos que tenemos por clase:\")\n",
    "print(df2['clase'].value_counts())"
   ]
  },
  {
   "cell_type": "code",
   "execution_count": 43,
   "metadata": {},
   "outputs": [
    {
     "data": {
      "image/png": "[encoded data removed]",
      "text/plain": [
       "<Figure size 432x288 with 1 Axes>"
      ]
     },
     "metadata": {
      "needs_background": "light"
     },
     "output_type": "display_data"
    }
   ],
   "source": [
    "# Ploteamos la cantidad de ejemplos que tenemos de cada clase\n",
    "# para ver si esta se encuentra balanceada o no\n",
    "import matplotlib.pyplot as plt\n",
    "\n",
    "Totales = df2['clase'].value_counts()\n",
    "plt.bar(['Spam', 'NoSpam'], Totales)\n",
    "plt.xticks(rotation = 45)\n",
    "plt.title('Cantidad de ejemplos de cada clase') \n",
    "plt.show()"
   ]
  },
  {
   "cell_type": "code",
   "execution_count": 44,
   "metadata": {},
   "outputs": [
    {
     "data": {
      "image/png": "[encoded data removed]",
      "text/plain": [
       "<Figure size 432x288 with 1 Axes>"
      ]
     },
     "metadata": {
      "needs_background": "light"
     },
     "output_type": "display_data"
    }
   ],
   "source": [
    "# Para analizar la información, ploteamos un histograma\n",
    "# que nos indica la frecuencia de caracteres tanto en \n",
    "# Ham como en Spam para revisar su comportamiento\n",
    "\n",
    "Spams = []\n",
    "NoSpams = []\n",
    "for clase, mensaje in zip(df2['clase'], df2['mensaje']):\n",
    "    if clase == 'Spam':\n",
    "        Spams.append(len(mensaje))\n",
    "    else:\n",
    "        NoSpams.append(len(mensaje))\n",
    "\n",
    "\n",
    "plt.hist(Spams, bins=15)\n",
    "plt.hist(NoSpams, bins=15)\n",
    "plt.legend(['Spam', 'No Spam'])\n",
    "plt.xlabel('Cantidad de Caracteres en los ejemplos') \n",
    "plt.ylabel('Total de ejemplos') \n",
    "plt.show()"
   ]
  },
  {
   "cell_type": "code",
   "execution_count": 45,
   "metadata": {},
   "outputs": [
    {
     "name": "stdout",
     "output_type": "stream",
     "text": [
      "\n",
      "\u001b[93m    Error: Couldn't link model to 'es_core_news_sm'\u001b[0m\n",
      "    Creating a symlink in spacy/data failed. Make sure you have the required\n",
      "    permissions and try re-running the command as admin, or use a\n",
      "    virtualenv. You can still import the model as a module and call its\n",
      "    load() method, or create the symlink manually.\n",
      "\n",
      "    C:\\Users\\Irving\\Miniconda3\\envs\\pln_2\\lib\\site-packages\\es_core_news_sm\n",
      "    -->\n",
      "    C:\\Users\\Irving\\Miniconda3\\envs\\pln_2\\lib\\site-packages\\spacy\\data\\es_core_news_sm\n",
      "\n",
      "\n",
      "\u001b[93m    Creating a shortcut link for 'en' didn't work (maybe you don't have\n",
      "    admin permissions?), but you can still load the model via its full\n",
      "    package name: nlp = spacy.load('{name}')\u001b[0m\n",
      "    Download successful but linking failed\n",
      "\n"
     ]
    },
    {
     "data": {
      "image/png": "[encoded data removed]",
      "text/plain": [
       "<Figure size 720x432 with 1 Axes>"
      ]
     },
     "metadata": {
      "needs_background": "light"
     },
     "output_type": "display_data"
    }
   ],
   "source": [
    "# Importamos el núcleo de trabajo para hacer la tokenización\n",
    "import spacy.cli\n",
    "spacy.cli.download('es_core_news_sm')\n",
    "nlp_es = spacy.load('es_core_news_sm')\n",
    "\n",
    "# Gráfica de los tokens más utilizados para Spam\n",
    "Palabras_Spam = {}\n",
    "\n",
    "for clase, mensaje in zip(df2['clase'], df2['mensaje']):\n",
    "    if clase == 'Spam':\n",
    "        for token in nlp_es(mensaje):\n",
    "            if(Palabras_Spam.get(token.text) == None):\n",
    "                Palabras_Spam.setdefault(token.text, 1)\n",
    "            else:\n",
    "                Palabras_Spam[token.text] += 1\n",
    "\n",
    "Palabras_Spam2 = {}\n",
    "for clave, valor in zip(Palabras_Spam.keys(), Palabras_Spam.values()):\n",
    "    if(valor >= 5):\n",
    "        Palabras_Spam2.setdefault(clave, valor)\n",
    "\n",
    "plt.figure(figsize=(10,6))\n",
    "plt.bar(Palabras_Spam2.keys(), Palabras_Spam2.values())\n",
    "plt.title('Palabras más importantes para Spam') \n",
    "plt.xticks(rotation=80)\n",
    "plt.show()"
   ]
  },
  {
   "cell_type": "code",
   "execution_count": 46,
   "metadata": {},
   "outputs": [
    {
     "data": {
      "image/png": "[encoded data removed]",
      "text/plain": [
       "<Figure size 720x432 with 1 Axes>"
      ]
     },
     "metadata": {
      "needs_background": "light"
     },
     "output_type": "display_data"
    }
   ],
   "source": [
    "# Gráfica de los tokens más utilizados para No Spam\n",
    "Palabras_NoSpam = {}\n",
    "\n",
    "for clase, mensaje in zip(df2['clase'], df2['mensaje']):\n",
    "    if clase == 'NoSpam':\n",
    "        for token in nlp_es(mensaje):\n",
    "            if(Palabras_NoSpam.get(token.text) == None):\n",
    "                Palabras_NoSpam.setdefault(token.text, 1)\n",
    "            else:\n",
    "                Palabras_NoSpam[token.text] += 1\n",
    "\n",
    "Palabras_NoSpam2 = {}\n",
    "for clave, valor in zip(Palabras_NoSpam.keys(), Palabras_NoSpam.values()):\n",
    "    if(valor >= 5):\n",
    "        Palabras_NoSpam2.setdefault(clave, valor)\n",
    "\n",
    "plt.figure(figsize=(10,6))\n",
    "plt.bar(Palabras_NoSpam2.keys(), Palabras_NoSpam2.values())\n",
    "plt.title('Palabras más importantes para NoSpam') \n",
    "plt.xticks(rotation=80)\n",
    "plt.show()"
   ]
  },
  {
   "cell_type": "markdown",
   "metadata": {},
   "source": [
    "## Preprocesamiento de la información"
   ]
  },
  {
   "cell_type": "code",
   "execution_count": 63,
   "metadata": {},
   "outputs": [],
   "source": [
    "# Lematización de las palabras y filtrado de StopWords\n",
    "\n",
    "# Asignación de StopWords predefinidas para idioma Español\n",
    "import nltk\n",
    "from nltk.corpus import stopwords\n",
    "stop_words = nltk.corpus.stopwords.words('spanish')\n",
    "\n",
    "for i in range(len(df2['mensaje'])):\n",
    "    Texto = \"\"\n",
    "    for token in nlp_es(df2['mensaje'][i]):\n",
    "        if token.text not in stop_words:\n",
    "            Texto = Texto + token.text + \" \"\n",
    "    df2['mensaje'][i] = Texto"
   ]
  },
  {
   "cell_type": "code",
   "execution_count": 64,
   "metadata": {},
   "outputs": [
    {
     "data": {
      "text/html": [
       "<div>\n",
       "<style scoped>\n",
       "    .dataframe tbody tr th:only-of-type {\n",
       "        vertical-align: middle;\n",
       "    }\n",
       "\n",
       "    .dataframe tbody tr th {\n",
       "        vertical-align: top;\n",
       "    }\n",
       "\n",
       "    .dataframe thead th {\n",
       "        text-align: right;\n",
       "    }\n",
       "</style>\n",
       "<table border=\"1\" class=\"dataframe\">\n",
       "  <thead>\n",
       "    <tr style=\"text-align: right;\">\n",
       "      <th></th>\n",
       "      <th>clase</th>\n",
       "      <th>mensaje</th>\n",
       "    </tr>\n",
       "  </thead>\n",
       "  <tbody>\n",
       "    <tr>\n",
       "      <th>0</th>\n",
       "      <td>NoSpam</td>\n",
       "      <td>Acuerdo parir reunión planeación</td>\n",
       "    </tr>\n",
       "    <tr>\n",
       "      <th>1</th>\n",
       "      <td>NoSpam</td>\n",
       "      <td>[ IMPORTANTE ] Cambio hora citar mañana</td>\n",
       "    </tr>\n",
       "    <tr>\n",
       "      <th>2</th>\n",
       "      <td>NoSpam</td>\n",
       "      <td>Envio información solicitar</td>\n",
       "    </tr>\n",
       "    <tr>\n",
       "      <th>3</th>\n",
       "      <td>NoSpam</td>\n",
       "      <td>Problema autenticación resolver</td>\n",
       "    </tr>\n",
       "    <tr>\n",
       "      <th>4</th>\n",
       "      <td>NoSpam</td>\n",
       "      <td>Activación correcto contar</td>\n",
       "    </tr>\n",
       "    <tr>\n",
       "      <th>...</th>\n",
       "      <td>...</td>\n",
       "      <td>...</td>\n",
       "    </tr>\n",
       "    <tr>\n",
       "      <th>83</th>\n",
       "      <td>Spam</td>\n",
       "      <td>Hoy ser día cualquiera , ¡ aquí catálogo cursa...</td>\n",
       "    </tr>\n",
       "    <tr>\n",
       "      <th>84</th>\n",
       "      <td>Spam</td>\n",
       "      <td>Apréndelo ahora , dejar parir luego . Echa vis...</td>\n",
       "    </tr>\n",
       "    <tr>\n",
       "      <th>85</th>\n",
       "      <td>Spam</td>\n",
       "      <td>No perder lugar - Curso Machine Learning Práct...</td>\n",
       "    </tr>\n",
       "    <tr>\n",
       "      <th>86</th>\n",
       "      <td>Spam</td>\n",
       "      <td>Has aparecer 10 búsqueda semanal</td>\n",
       "    </tr>\n",
       "    <tr>\n",
       "      <th>87</th>\n",
       "      <td>Spam</td>\n",
       "      <td>Mira haber perder semana</td>\n",
       "    </tr>\n",
       "  </tbody>\n",
       "</table>\n",
       "<p>88 rows × 2 columns</p>\n",
       "</div>"
      ],
      "text/plain": [
       "     clase                                            mensaje\n",
       "0   NoSpam                  Acuerdo parir reunión planeación \n",
       "1   NoSpam           [ IMPORTANTE ] Cambio hora citar mañana \n",
       "2   NoSpam                       Envio información solicitar \n",
       "3   NoSpam                   Problema autenticación resolver \n",
       "4   NoSpam                        Activación correcto contar \n",
       "..     ...                                                ...\n",
       "83    Spam  Hoy ser día cualquiera , ¡ aquí catálogo cursa...\n",
       "84    Spam  Apréndelo ahora , dejar parir luego . Echa vis...\n",
       "85    Spam  No perder lugar - Curso Machine Learning Práct...\n",
       "86    Spam                  Has aparecer 10 búsqueda semanal \n",
       "87    Spam                          Mira haber perder semana \n",
       "\n",
       "[88 rows x 2 columns]"
      ]
     },
     "execution_count": 64,
     "metadata": {},
     "output_type": "execute_result"
    }
   ],
   "source": [
    "df2"
   ]
  },
  {
   "cell_type": "code",
   "execution_count": 65,
   "metadata": {},
   "outputs": [],
   "source": [
    "# Separar la información (Dataset) en conjuntos de entrenamiento y validación\n",
    "\n",
    "# Importar la librería de Sklearn\n",
    "from sklearn.model_selection import train_test_split\n",
    "\n",
    "# Definimos nuestra información (Nombre de la clase (Y) y valor (X))\n",
    "X = df2['mensaje']\n",
    "Y = df2['clase']\n",
    "\n",
    "# Segmentamos la información en conjuntos de entrenamiento y de validación (80 / 20)\n",
    "X_train, X_test, Y_train, Y_test = train_test_split(X, Y, test_size = 0.2)"
   ]
  },
  {
   "cell_type": "code",
   "execution_count": 66,
   "metadata": {},
   "outputs": [
    {
     "data": {
      "text/plain": [
       "(70, 275)"
      ]
     },
     "execution_count": 66,
     "metadata": {},
     "output_type": "execute_result"
    }
   ],
   "source": [
    "# Se importa la librería para extraccion de características y vectorización \n",
    "# de los ejemplos usando la función CountVectorizer()\n",
    "# (Permite conocer información de los daros de entrenamiento)\n",
    "from sklearn.feature_extraction.text import CountVectorizer\n",
    "count_vect = CountVectorizer()\n",
    "\n",
    "#  Con esta línea se construye un diccionario (Vocabulario de palabras) y se \n",
    "# cuenta el número de palabras que hay para cada elemento del diccionario\n",
    "X_train_counts = count_vect.fit_transform(X_train)\n",
    "\n",
    "# (Shape) El primer número representa los mensajes, y el segundo el vocabulario usado\n",
    "X_train_counts.shape"
   ]
  },
  {
   "cell_type": "code",
   "execution_count": 67,
   "metadata": {},
   "outputs": [],
   "source": [
    "# Se crea un Pipeline para asignar la secuencia de procesos\n",
    "from sklearn.pipeline import Pipeline\n",
    "from sklearn.feature_extraction.text import TfidfVectorizer\n",
    "from sklearn.svm import LinearSVC\n",
    "\n",
    "# En el Pipeline se mete en un arreglo la secuencia de pasos que se desea\n",
    "# seguir, o elementos que se desea enviar, en este caso 1) Vector de Tf-idf\n",
    "# 2) El modelo LinearSVC \n",
    "# En esta línea se hace la vectorización y se ejecuta el clasificador en un solo paso\n",
    "clasificador_Texto = Pipeline([('tfidf', TfidfVectorizer()),('clf', LinearSVC())])"
   ]
  },
  {
   "cell_type": "code",
   "execution_count": 68,
   "metadata": {},
   "outputs": [
    {
     "name": "stdout",
     "output_type": "stream",
     "text": [
      "dict_keys(['memory', 'steps', 'verbose', 'tfidf', 'clf', 'tfidf__analyzer', 'tfidf__binary', 'tfidf__decode_error', 'tfidf__dtype', 'tfidf__encoding', 'tfidf__input', 'tfidf__lowercase', 'tfidf__max_df', 'tfidf__max_features', 'tfidf__min_df', 'tfidf__ngram_range', 'tfidf__norm', 'tfidf__preprocessor', 'tfidf__smooth_idf', 'tfidf__stop_words', 'tfidf__strip_accents', 'tfidf__sublinear_tf', 'tfidf__token_pattern', 'tfidf__tokenizer', 'tfidf__use_idf', 'tfidf__vocabulary', 'clf__C', 'clf__class_weight', 'clf__dual', 'clf__fit_intercept', 'clf__intercept_scaling', 'clf__loss', 'clf__max_iter', 'clf__multi_class', 'clf__penalty', 'clf__random_state', 'clf__tol', 'clf__verbose'])\n"
     ]
    },
    {
     "data": {
      "text/plain": [
       "Pipeline(memory=None,\n",
       "         steps=[('tfidf',\n",
       "                 TfidfVectorizer(analyzer='word', binary=False,\n",
       "                                 decode_error='strict',\n",
       "                                 dtype=<class 'numpy.float64'>,\n",
       "                                 encoding='utf-8', input='content',\n",
       "                                 lowercase=True, max_df=1.0, max_features=None,\n",
       "                                 min_df=1, ngram_range=(1, 1), norm='l2',\n",
       "                                 preprocessor=None, smooth_idf=True,\n",
       "                                 stop_words=['de', 'para'], strip_accents=None,\n",
       "                                 sublinear_tf=False,\n",
       "                                 token_pattern='(?u)\\\\b\\\\w\\\\w+\\\\b',\n",
       "                                 tokenizer=None, use_idf=True,\n",
       "                                 vocabulary=None)),\n",
       "                ('clf',\n",
       "                 LinearSVC(C=1.0, class_weight=None, dual=True,\n",
       "                           fit_intercept=True, intercept_scaling=1,\n",
       "                           loss='squared_hinge', max_iter=1000,\n",
       "                           multi_class='ovr', penalty='l2', random_state=None,\n",
       "                           tol=0.0001, verbose=0))],\n",
       "         verbose=False)"
      ]
     },
     "execution_count": 68,
     "metadata": {},
     "output_type": "execute_result"
    }
   ],
   "source": [
    "# Visualizamos los parámetros de nuestro modelo\n",
    "print(clasificador_Texto.get_params().keys())\n",
    "\n",
    "# Podemos cambiar algunos de los parámetros como por ejempplo, uso de minúsculas\n",
    "# filtrado de stopwords y máximo de características a usar\n",
    "clasificador_Texto.set_params(tfidf__lowercase=True, tfidf__stop_words=['de', 'para'], tfidf__max_features=None)"
   ]
  },
  {
   "cell_type": "code",
   "execution_count": 69,
   "metadata": {},
   "outputs": [
    {
     "name": "stdout",
     "output_type": "stream",
     "text": [
      "86                    Has aparecer 10 búsqueda semanal \n",
      "17                  Este ser link confirmación correar \n",
      "71            Estudia Reino Unido - sesión informativo \n",
      "2                          Envio información solicitar \n",
      "13                  Solicitud parir cambiar contraseña \n",
      "32    Pensamos poder gustarte cursar sobrar Informát...\n",
      "64           Estreno viernes 13 Septiembre ... Monarca \n",
      "74                 Usuario : ¿ ser hora hacer viajar ? \n",
      "9             Confirmación Activación Cuenta App Móvil \n",
      "85    No perder lugar - Curso Machine Learning Práct...\n",
      "80    ¡ Triunfa cursar informático software sólo MX$...\n",
      "66    Announcing 50,000 Bertelsmann Technology Schol...\n",
      "24                                          ( asunto ) \n",
      "26              Por favor , finalizar registrar evento \n",
      "50             Ready to take off the training wheels ? \n",
      "41         ¡ Flash Sale terminar 24 hora ! Ahorra 70 % \n",
      "10    Por si interesar : Vacante parir Becario proye...\n",
      "70    Llegó momento . ¡ Los descontar Septiembre fin...\n",
      "Name: mensaje, dtype: object\n",
      "['Spam' 'NoSpam' 'Spam' 'NoSpam' 'NoSpam' 'Spam' 'Spam' 'Spam' 'NoSpam'\n",
      " 'Spam' 'Spam' 'Spam' 'Spam' 'NoSpam' 'Spam' 'Spam' 'Spam' 'Spam']\n"
     ]
    }
   ],
   "source": [
    "clasificador_Texto.fit(X_train, Y_train)\n",
    "Predicciones = clasificador_Texto.predict(X_test)\n",
    "print(X_test)\n",
    "print(Predicciones)"
   ]
  },
  {
   "cell_type": "code",
   "execution_count": 70,
   "metadata": {},
   "outputs": [
    {
     "data": {
      "text/plain": [
       "array(['NoSpam', 'Spam', 'Spam', 'Spam', 'Spam', 'Spam'], dtype=object)"
      ]
     },
     "execution_count": 70,
     "metadata": {},
     "output_type": "execute_result"
    }
   ],
   "source": [
    "clasificador_Texto.predict([\"Gracias por cofirmar tu asistencia\", \n",
    "                            \"Hola usuario, tenemos una oferta para tí\",\n",
    "                            \"Solo por hoy, el precio ha bajado\",\n",
    "                            \"Esperamos que te encuentras bien, ya hemos hecho la activación de tu cuenta\",\n",
    "                            \"Porqué no revisas estos ofertones??\",\n",
    "                            \"Mantequilla\"])"
   ]
  },
  {
   "cell_type": "code",
   "execution_count": 71,
   "metadata": {},
   "outputs": [
    {
     "name": "stdout",
     "output_type": "stream",
     "text": [
      "Matriz de confusión:\n",
      "[[ 5  2]\n",
      " [ 0 11]]\n",
      "\n",
      "Accuracy del modelo: \n",
      "0.8888888888888888\n",
      "\n",
      "Métricas de evaluación:\n",
      "              precision    recall  f1-score   support\n",
      "\n",
      "      NoSpam       1.00      0.71      0.83         7\n",
      "        Spam       0.85      1.00      0.92        11\n",
      "\n",
      "    accuracy                           0.89        18\n",
      "   macro avg       0.92      0.86      0.88        18\n",
      "weighted avg       0.91      0.89      0.88        18\n",
      "\n"
     ]
    }
   ],
   "source": [
    "# Matriz de confusión y Métricas de evaluación del modelo\n",
    "from sklearn.metrics import confusion_matrix, classification_report\n",
    "from sklearn import metrics\n",
    "\n",
    "# Impresión de matriz de confusión\n",
    "print(\"Matriz de confusión:\")\n",
    "print(confusion_matrix(Y_test, Predicciones))\n",
    "\n",
    "# Impresión de procentaje de Accuracy del modelo\n",
    "print(\"\\nAccuracy del modelo: \")\n",
    "print(metrics.accuracy_score(Y_test, Predicciones))\n",
    "\n",
    "# Impresión de las métricas para el modelo\n",
    "print(\"\\nMétricas de evaluación:\")\n",
    "print(classification_report(Y_test, Predicciones))"
   ]
  },
  {
   "cell_type": "code",
   "execution_count": null,
   "metadata": {},
   "outputs": [],
   "source": []
  },
  {
   "cell_type": "code",
   "execution_count": null,
   "metadata": {},
   "outputs": [],
   "source": []
  },
  {
   "cell_type": "code",
   "execution_count": null,
   "metadata": {},
   "outputs": [],
   "source": []
  }
 ],
 "metadata": {
  "colab": {
   "name": "Ejercicio 04.- Clasificador Spamless (2da oportunidad).ipynb",
   "provenance": []
  },
  "kernelspec": {
   "display_name": "Python 3",
   "language": "python",
   "name": "python3"
  },
  "language_info": {
   "codemirror_mode": {
    "name": "ipython",
    "version": 3
   },
   "file_extension": ".py",
   "mimetype": "text/x-python",
   "name": "python",
   "nbconvert_exporter": "python",
   "pygments_lexer": "ipython3",
   "version": "3.7.7"
  }
 },
 "nbformat": 4,
 "nbformat_minor": 1
}
